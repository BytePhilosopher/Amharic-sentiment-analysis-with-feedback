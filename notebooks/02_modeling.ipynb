{
 "cells": [
  {
   "cell_type": "markdown",
   "id": "89e6ed3b",
   "metadata": {},
   "source": [
    " TF-IDF Vectorization for Amharic Sentiment Analysis and logical regression with train_test_split"
   ]
  },
  {
   "cell_type": "code",
   "execution_count": 2,
   "id": "5f354d40",
   "metadata": {},
   "outputs": [
    {
     "name": "stdout",
     "output_type": "stream",
     "text": [
      "TF-IDF vectorization complete. Features and vectorizer saved.\n",
      "Classification Report:\n",
      "\n",
      "              precision    recall  f1-score   support\n",
      "\n",
      "           0       0.77      0.74      0.75       238\n",
      "           1       0.71      0.75      0.73       206\n",
      "\n",
      "    accuracy                           0.74       444\n",
      "   macro avg       0.74      0.74      0.74       444\n",
      "weighted avg       0.74      0.74      0.74       444\n",
      "\n",
      "Confusion Matrix:\n",
      "\n",
      "[[175  63]\n",
      " [ 51 155]]\n"
     ]
    }
   ],
   "source": [
    "# -------------------------------\n",
    "# 1. Imports\n",
    "# -------------------------------\n",
    "import pandas as pd\n",
    "import pickle\n",
    "from sklearn.feature_extraction.text import TfidfVectorizer\n",
    "from sklearn.linear_model import SGDClassifier\n",
    "from sklearn.model_selection import train_test_split\n",
    "from sklearn.metrics import classification_report, confusion_matrix\n",
    "import os\n",
    "\n",
    "# -------------------------------\n",
    "# 2. Load Cleaned Dataset\n",
    "# -------------------------------\n",
    "df = pd.read_csv(\"../data/processed/amharic_sentiment_cleaned.csv\")\n",
    "df.dropna(subset=[\"cleaned_tweet\", \"label\"], inplace=True)\n",
    "\n",
    "texts = df[\"cleaned_tweet\"].astype(str).tolist()\n",
    "labels = df[\"label\"].tolist()\n",
    "\n",
    "# -------------------------------\n",
    "# 3. TF-IDF Vectorization\n",
    "# -------------------------------\n",
    "vectorizer = TfidfVectorizer(\n",
    "    max_features=5000,\n",
    "    ngram_range=(1, 2),\n",
    ")\n",
    "\n",
    "X = vectorizer.fit_transform(texts)\n",
    "\n",
    "# Save the TF-IDF features and vectorizer\n",
    "os.makedirs(\"../data/processed\", exist_ok=True)\n",
    "with open(\"../data/processed/tfidf_features.pkl\", \"wb\") as f:\n",
    "    pickle.dump(X, f)\n",
    "\n",
    "with open(\"../data/processed/labels.pkl\", \"wb\") as f:\n",
    "    pickle.dump(labels, f)\n",
    "\n",
    "os.makedirs(\"../models\", exist_ok=True)\n",
    "with open(\"../models/tfidf_vectorizer.pkl\", \"wb\") as f:\n",
    "    pickle.dump(vectorizer, f)\n",
    "\n",
    "print(\"TF-IDF vectorization complete. Features and vectorizer saved.\")\n",
    "\n",
    "# -------------------------------\n",
    "# 4. Train/Test Split\n",
    "# -------------------------------\n",
    "X_train, X_test, y_train, y_test = train_test_split(\n",
    "    X, labels, test_size=0.2, random_state=42, stratify=labels\n",
    ")\n",
    "\n",
    "# -------------------------------\n",
    "# 5. Train SGDClassifier Model\n",
    "# -------------------------------\n",
    "clf = SGDClassifier(loss='log_loss', max_iter=1000, tol=1e-3)\n",
    "\n",
    "# Convert labels to array if needed\n",
    "import numpy as np\n",
    "y_train = np.array(y_train)\n",
    "y_test = np.array(y_test)\n",
    "\n",
    "# Use partial_fit for initial training\n",
    "clf.partial_fit(X_train, y_train, classes=np.unique(labels))\n",
    "\n",
    "# Save model\n",
    "with open(\"../models/sgd_model.pkl\", \"wb\") as f:\n",
    "    pickle.dump(clf, f)\n",
    "\n",
    "# -------------------------------\n",
    "# 6. Evaluate Model\n",
    "# -------------------------------\n",
    "y_pred = clf.predict(X_test)\n",
    "\n",
    "print(\"Classification Report:\\n\")\n",
    "print(classification_report(y_test, y_pred))\n",
    "\n",
    "print(\"Confusion Matrix:\\n\")\n",
    "print(confusion_matrix(y_test, y_pred))\n"
   ]
  },
  {
   "cell_type": "code",
   "execution_count": 3,
   "id": "4da93c5f",
   "metadata": {},
   "outputs": [],
   "source": [
    "def convert_to_fasttext_format(df, text_col, label_col, out_path):\n",
    "    with open(out_path, 'w', encoding='utf-8') as f:\n",
    "        for text, label in zip(df[text_col], df[label_col]):\n",
    "            label_str = \"__label__positive\" if label == 1 else \"__label__negative\"\n",
    "            f.write(f\"{label_str} {text.strip()}\\n\")\n",
    "\n",
    "convert_to_fasttext_format(df, \"cleaned_tweet\", \"label\", \"fasttext_train.txt\")\n"
   ]
  },
  {
   "cell_type": "code",
   "execution_count": 7,
   "id": "2f9293be",
   "metadata": {},
   "outputs": [
    {
     "name": "stdout",
     "output_type": "stream",
     "text": [
      "Requirement already satisfied: fasttext in /Library/Frameworks/Python.framework/Versions/3.13/lib/python3.13/site-packages (0.9.3)\n",
      "Requirement already satisfied: pybind11>=2.2 in /Library/Frameworks/Python.framework/Versions/3.13/lib/python3.13/site-packages (from fasttext) (3.0.0)\n",
      "Requirement already satisfied: setuptools>=0.7.0 in /Library/Frameworks/Python.framework/Versions/3.13/lib/python3.13/site-packages (from fasttext) (80.9.0)\n",
      "Requirement already satisfied: numpy in /Library/Frameworks/Python.framework/Versions/3.13/lib/python3.13/site-packages (from fasttext) (2.3.2)\n",
      "\n",
      "\u001b[1m[\u001b[0m\u001b[34;49mnotice\u001b[0m\u001b[1;39;49m]\u001b[0m\u001b[39;49m A new release of pip is available: \u001b[0m\u001b[31;49m25.1.1\u001b[0m\u001b[39;49m -> \u001b[0m\u001b[32;49m25.2\u001b[0m\n",
      "\u001b[1m[\u001b[0m\u001b[34;49mnotice\u001b[0m\u001b[1;39;49m]\u001b[0m\u001b[39;49m To update, run: \u001b[0m\u001b[32;49mpip3 install --upgrade pip\u001b[0m\n",
      "Note: you may need to restart the kernel to use updated packages.\n"
     ]
    },
    {
     "name": "stderr",
     "output_type": "stream",
     "text": [
      "Read 0M words\n",
      "Number of words:  15763\n",
      "Number of labels: 2\n",
      "Progress: 100.0% words/sec/thread:  316896 lr:  0.000000 avg.loss:  0.039308 ETA:   0h 0m 0s 0m 0s\n"
     ]
    }
   ],
   "source": [
    "%pip install fasttext\n",
    "\n",
    "import fasttext\n",
    "\n",
    "model = fasttext.train_supervised(input=\"fasttext_train.txt\", epoch=25, lr=1.0, wordNgrams=2, verbose=2)\n",
    "model.save_model(\"../models/amharic_fasttext_model.ftz\")\n"
   ]
  },
  {
   "cell_type": "code",
   "execution_count": 10,
   "id": "d6eca87e",
   "metadata": {},
   "outputs": [
    {
     "name": "stdout",
     "output_type": "stream",
     "text": [
      "Precision: 1.00, Recall: 1.00\n"
     ]
    }
   ],
   "source": [
    "result = model.test(\"fasttext_train.txt\")\n",
    "nexamples, precision, recall = result\n",
    "print(f\"Precision: {precision:.2f}, Recall: {recall:.2f}\")\n"
   ]
  }
 ],
 "metadata": {
  "kernelspec": {
   "display_name": ".venv",
   "language": "python",
   "name": "python3"
  },
  "language_info": {
   "codemirror_mode": {
    "name": "ipython",
    "version": 3
   },
   "file_extension": ".py",
   "mimetype": "text/x-python",
   "name": "python",
   "nbconvert_exporter": "python",
   "pygments_lexer": "ipython3",
   "version": "3.13.5"
  }
 },
 "nbformat": 4,
 "nbformat_minor": 5
}
